{
 "cells": [
  {
   "cell_type": "code",
   "execution_count": 2,
   "metadata": {
    "collapsed": true
   },
   "outputs": [],
   "source": [
    "import pandas as pd\n",
    "import numpy as np\n",
    "import matplotlib.pyplot as plt\n",
    "%matplotlib inline"
   ]
  },
  {
   "cell_type": "code",
   "execution_count": 5,
   "metadata": {
    "collapsed": false
   },
   "outputs": [
    {
     "data": {
      "text/html": [
       "<div>\n",
       "<table border=\"1\" class=\"dataframe\">\n",
       "  <thead>\n",
       "    <tr style=\"text-align: right;\">\n",
       "      <th></th>\n",
       "      <th>ID</th>\n",
       "      <th>State</th>\n",
       "      <th>Company.Live.Date</th>\n",
       "      <th>Termed</th>\n",
       "      <th>Employees</th>\n",
       "      <th>Industry</th>\n",
       "      <th>Expense</th>\n",
       "      <th>Hire</th>\n",
       "      <th>Perform</th>\n",
       "      <th>Price_Change</th>\n",
       "      <th>...</th>\n",
       "      <th>Risk_Interactions</th>\n",
       "      <th>Underwriting_Interactions</th>\n",
       "      <th>Strategic_Service_Interactions</th>\n",
       "      <th>Tax_Interactions</th>\n",
       "      <th>Unemployment_Claim_Interactions</th>\n",
       "      <th>WC_Interactions</th>\n",
       "      <th>Payrolls</th>\n",
       "      <th>Payrolls_With_Error</th>\n",
       "      <th>Voluntary_Terminations</th>\n",
       "      <th>Involuntary_Terminations</th>\n",
       "    </tr>\n",
       "  </thead>\n",
       "  <tbody>\n",
       "    <tr>\n",
       "      <th>0</th>\n",
       "      <td>140</td>\n",
       "      <td>FL</td>\n",
       "      <td>7/7/10</td>\n",
       "      <td>False</td>\n",
       "      <td>16</td>\n",
       "      <td>Agriculture</td>\n",
       "      <td>False</td>\n",
       "      <td>False</td>\n",
       "      <td>False</td>\n",
       "      <td>True</td>\n",
       "      <td>...</td>\n",
       "      <td>0</td>\n",
       "      <td>0</td>\n",
       "      <td>0</td>\n",
       "      <td>0</td>\n",
       "      <td>4</td>\n",
       "      <td>0</td>\n",
       "      <td>52.0</td>\n",
       "      <td>0.0</td>\n",
       "      <td>5.0</td>\n",
       "      <td>1.0</td>\n",
       "    </tr>\n",
       "    <tr>\n",
       "      <th>1</th>\n",
       "      <td>141</td>\n",
       "      <td>FL</td>\n",
       "      <td>9/22/10</td>\n",
       "      <td>False</td>\n",
       "      <td>8</td>\n",
       "      <td>Agriculture</td>\n",
       "      <td>False</td>\n",
       "      <td>False</td>\n",
       "      <td>False</td>\n",
       "      <td>True</td>\n",
       "      <td>...</td>\n",
       "      <td>0</td>\n",
       "      <td>0</td>\n",
       "      <td>0</td>\n",
       "      <td>0</td>\n",
       "      <td>0</td>\n",
       "      <td>0</td>\n",
       "      <td>36.0</td>\n",
       "      <td>0.0</td>\n",
       "      <td>1.0</td>\n",
       "      <td>0.0</td>\n",
       "    </tr>\n",
       "    <tr>\n",
       "      <th>2</th>\n",
       "      <td>142</td>\n",
       "      <td>FL</td>\n",
       "      <td>9/26/10</td>\n",
       "      <td>False</td>\n",
       "      <td>7</td>\n",
       "      <td>Agriculture</td>\n",
       "      <td>False</td>\n",
       "      <td>False</td>\n",
       "      <td>False</td>\n",
       "      <td>True</td>\n",
       "      <td>...</td>\n",
       "      <td>0</td>\n",
       "      <td>0</td>\n",
       "      <td>0</td>\n",
       "      <td>0</td>\n",
       "      <td>0</td>\n",
       "      <td>0</td>\n",
       "      <td>27.0</td>\n",
       "      <td>0.0</td>\n",
       "      <td>2.0</td>\n",
       "      <td>2.0</td>\n",
       "    </tr>\n",
       "    <tr>\n",
       "      <th>3</th>\n",
       "      <td>143</td>\n",
       "      <td>FL</td>\n",
       "      <td>9/29/10</td>\n",
       "      <td>False</td>\n",
       "      <td>3</td>\n",
       "      <td>Agriculture</td>\n",
       "      <td>False</td>\n",
       "      <td>False</td>\n",
       "      <td>False</td>\n",
       "      <td>True</td>\n",
       "      <td>...</td>\n",
       "      <td>0</td>\n",
       "      <td>0</td>\n",
       "      <td>0</td>\n",
       "      <td>0</td>\n",
       "      <td>0</td>\n",
       "      <td>0</td>\n",
       "      <td>37.0</td>\n",
       "      <td>0.0</td>\n",
       "      <td>1.0</td>\n",
       "      <td>0.0</td>\n",
       "    </tr>\n",
       "    <tr>\n",
       "      <th>4</th>\n",
       "      <td>144</td>\n",
       "      <td>TX</td>\n",
       "      <td>10/25/14</td>\n",
       "      <td>False</td>\n",
       "      <td>4</td>\n",
       "      <td>Utilities</td>\n",
       "      <td>False</td>\n",
       "      <td>False</td>\n",
       "      <td>False</td>\n",
       "      <td>False</td>\n",
       "      <td>...</td>\n",
       "      <td>0</td>\n",
       "      <td>0</td>\n",
       "      <td>0</td>\n",
       "      <td>0</td>\n",
       "      <td>0</td>\n",
       "      <td>0</td>\n",
       "      <td>24.0</td>\n",
       "      <td>0.0</td>\n",
       "      <td>0.0</td>\n",
       "      <td>0.0</td>\n",
       "    </tr>\n",
       "  </tbody>\n",
       "</table>\n",
       "<p>5 rows × 36 columns</p>\n",
       "</div>"
      ],
      "text/plain": [
       "    ID State Company.Live.Date Termed  Employees     Industry Expense   Hire  \\\n",
       "0  140    FL            7/7/10  False         16  Agriculture   False  False   \n",
       "1  141    FL           9/22/10  False          8  Agriculture   False  False   \n",
       "2  142    FL           9/26/10  False          7  Agriculture   False  False   \n",
       "3  143    FL           9/29/10  False          3  Agriculture   False  False   \n",
       "4  144    TX          10/25/14  False          4    Utilities   False  False   \n",
       "\n",
       "  Perform Price_Change            ...             Risk_Interactions  \\\n",
       "0   False         True            ...                             0   \n",
       "1   False         True            ...                             0   \n",
       "2   False         True            ...                             0   \n",
       "3   False         True            ...                             0   \n",
       "4   False        False            ...                             0   \n",
       "\n",
       "   Underwriting_Interactions  Strategic_Service_Interactions  \\\n",
       "0                          0                               0   \n",
       "1                          0                               0   \n",
       "2                          0                               0   \n",
       "3                          0                               0   \n",
       "4                          0                               0   \n",
       "\n",
       "   Tax_Interactions  Unemployment_Claim_Interactions  WC_Interactions  \\\n",
       "0                 0                                4                0   \n",
       "1                 0                                0                0   \n",
       "2                 0                                0                0   \n",
       "3                 0                                0                0   \n",
       "4                 0                                0                0   \n",
       "\n",
       "   Payrolls  Payrolls_With_Error  Voluntary_Terminations  \\\n",
       "0      52.0                  0.0                     5.0   \n",
       "1      36.0                  0.0                     1.0   \n",
       "2      27.0                  0.0                     2.0   \n",
       "3      37.0                  0.0                     1.0   \n",
       "4      24.0                  0.0                     0.0   \n",
       "\n",
       "   Involuntary_Terminations  \n",
       "0                       1.0  \n",
       "1                       0.0  \n",
       "2                       2.0  \n",
       "3                       0.0  \n",
       "4                       0.0  \n",
       "\n",
       "[5 rows x 36 columns]"
      ]
     },
     "execution_count": 5,
     "metadata": {},
     "output_type": "execute_result"
    }
   ],
   "source": [
    "clients = pd.read_csv('clients_w_term_clean.csv', parse_dates=True)\n",
    "clients.head()"
   ]
  },
  {
   "cell_type": "code",
   "execution_count": 6,
   "metadata": {
    "collapsed": false
   },
   "outputs": [
    {
     "data": {
      "text/plain": [
       "(9538, 36)"
      ]
     },
     "execution_count": 6,
     "metadata": {},
     "output_type": "execute_result"
    }
   ],
   "source": [
    "clients.shape"
   ]
  },
  {
   "cell_type": "code",
   "execution_count": 7,
   "metadata": {
    "collapsed": false
   },
   "outputs": [
    {
     "data": {
      "text/plain": [
       "ID                                    0\n",
       "State                                 0\n",
       "Company.Live.Date                     0\n",
       "Termed                                0\n",
       "Employees                             0\n",
       "Industry                              0\n",
       "Expense                               0\n",
       "Hire                                  0\n",
       "Perform                               0\n",
       "Price_Change                          0\n",
       "Price_Change_Amount                   0\n",
       "Cases                                 0\n",
       "First_Contact_Resolutions          3292\n",
       "Benefits_Interactions                 0\n",
       "Cust_Service_Interactions             0\n",
       "Global_Services_Interactions          0\n",
       "Passport_Interactions                 0\n",
       "HR_Interactions                       0\n",
       "IT_Enhancement_Interactions           0\n",
       "IT_Maintenance_Interactions           0\n",
       "IT_Problem_Interactions               0\n",
       "Standard_IT_Interactions              0\n",
       "LOA_Interactions                      0\n",
       "Legal_Interactions                    0\n",
       "Payroll_Interactions                  0\n",
       "Product_Interactions                  0\n",
       "Risk_Interactions                     0\n",
       "Underwriting_Interactions             0\n",
       "Strategic_Service_Interactions        0\n",
       "Tax_Interactions                      0\n",
       "Unemployment_Claim_Interactions       0\n",
       "WC_Interactions                       0\n",
       "Payrolls                           1247\n",
       "Payrolls_With_Error                1247\n",
       "Voluntary_Terminations              814\n",
       "Involuntary_Terminations            814\n",
       "dtype: int64"
      ]
     },
     "execution_count": 7,
     "metadata": {},
     "output_type": "execute_result"
    }
   ],
   "source": [
    "clients.isnull().sum()"
   ]
  },
  {
   "cell_type": "code",
   "execution_count": 12,
   "metadata": {
    "collapsed": false
   },
   "outputs": [
    {
     "data": {
      "text/plain": [
       "False    8781\n",
       "True      757\n",
       "Name: Termed, dtype: int64"
      ]
     },
     "execution_count": 12,
     "metadata": {},
     "output_type": "execute_result"
    }
   ],
   "source": [
    "clients.Termed.value_counts()"
   ]
  },
  {
   "cell_type": "code",
   "execution_count": null,
   "metadata": {
    "collapsed": true
   },
   "outputs": [],
   "source": []
  }
 ],
 "metadata": {
  "anaconda-cloud": {},
  "kernelspec": {
   "display_name": "Python [Root]",
   "language": "python",
   "name": "Python [Root]"
  },
  "language_info": {
   "codemirror_mode": {
    "name": "ipython",
    "version": 2
   },
   "file_extension": ".py",
   "mimetype": "text/x-python",
   "name": "python",
   "nbconvert_exporter": "python",
   "pygments_lexer": "ipython2",
   "version": "2.7.12"
  }
 },
 "nbformat": 4,
 "nbformat_minor": 0
}
